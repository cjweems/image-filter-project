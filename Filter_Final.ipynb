{
  "nbformat": 4,
  "nbformat_minor": 0,
  "metadata": {
    "colab": {
      "provenance": [],
      "authorship_tag": "ABX9TyNelh7M+5lxtYqSQBvIXcEi",
      "include_colab_link": true
    },
    "kernelspec": {
      "name": "python3",
      "display_name": "Python 3"
    },
    "language_info": {
      "name": "python"
    }
  },
  "cells": [
    {
      "cell_type": "markdown",
      "metadata": {
        "id": "view-in-github",
        "colab_type": "text"
      },
      "source": [
        "<a href=\"https://colab.research.google.com/github/cjweems/image-filter-project/blob/feedback/Filter_Final.ipynb\" target=\"_parent\"><img src=\"https://colab.research.google.com/assets/colab-badge.svg\" alt=\"Open In Colab\"/></a>"
      ]
    },
    {
      "cell_type": "code",
      "source": [
        "from google.colab import drive\n",
        "drive.mount(\"/content/drive/\")"
      ],
      "metadata": {
        "id": "_tMdwu6YBxd2",
        "outputId": "7671810a-0464-41da-fd18-6c107a0fdb26",
        "colab": {
          "base_uri": "https://localhost:8080/"
        }
      },
      "execution_count": 20,
      "outputs": [
        {
          "output_type": "stream",
          "name": "stdout",
          "text": [
            "Mounted at /content/drive/\n"
          ]
        }
      ]
    },
    {
      "cell_type": "code",
      "source": [
        "cd drive/MyDrive/'AP CSP'/'Image Filter Project'"
      ],
      "metadata": {
        "id": "LY4VDhMQCCrz",
        "outputId": "72991a26-3457-4c59-8288-7d7a611d2dd9",
        "colab": {
          "base_uri": "https://localhost:8080/"
        }
      },
      "execution_count": 21,
      "outputs": [
        {
          "output_type": "stream",
          "name": "stdout",
          "text": [
            "/content/drive/MyDrive/AP CSP/Image Filter Project\n"
          ]
        }
      ]
    },
    {
      "cell_type": "code",
      "execution_count": 27,
      "metadata": {
        "id": "KnqjP9_eY0ZO",
        "outputId": "35b3df5e-f6eb-4c7b-c2f0-6ba3ab0f7df7",
        "colab": {
          "base_uri": "https://localhost:8080/",
          "height": 423
        }
      },
      "outputs": [
        {
          "output_type": "display_data",
          "data": {
            "text/plain": [
              "<IPython.core.display.Javascript object>"
            ],
            "application/javascript": [
              "\n",
              "    async function takePhoto(quality) {\n",
              "      const div = document.createElement('div');\n",
              "      const capture = document.createElement('button');\n",
              "      capture.textContent = 'Capture';\n",
              "      div.appendChild(capture);\n",
              "\n",
              "      const video = document.createElement('video');\n",
              "      video.style.display = 'block';\n",
              "      const stream = await navigator.mediaDevices.getUserMedia({video: true});\n",
              "\n",
              "      document.body.appendChild(div);\n",
              "      div.appendChild(video);\n",
              "      video.srcObject = stream;\n",
              "      await video.play();\n",
              "\n",
              "      // Resize the output to fit the video element.\n",
              "      google.colab.output.setIframeHeight(document.documentElement.scrollHeight, true);\n",
              "\n",
              "      // Wait for Capture to be clicked.\n",
              "      await new Promise((resolve) => capture.onclick = resolve);\n",
              "\n",
              "      const canvas = document.createElement('canvas');\n",
              "      canvas.width = video.videoWidth;\n",
              "      canvas.height = video.videoHeight;\n",
              "      canvas.getContext('2d').drawImage(video, 0, 0);\n",
              "      stream.getVideoTracks()[0].stop();\n",
              "      div.remove();\n",
              "      return canvas.toDataURL('image/jpeg', quality);\n",
              "    }\n",
              "    "
            ]
          },
          "metadata": {}
        },
        {
          "name": "stdout",
          "output_type": "stream",
          "text": [
            "Would you like to make your face blurred or your body blurred? (f/b): b\n"
          ]
        },
        {
          "output_type": "display_data",
          "data": {
            "text/plain": [
              "<Figure size 640x480 with 1 Axes>"
            ],
            "image/png": "[encoded data removed]"
          },
          "metadata": {}
        }
      ],
      "source": [
        "%matplotlib inline\n",
        "import os\n",
        "import cv2\n",
        "import matplotlib.pyplot as plt\n",
        "from IPython.display import display, Javascript, Image\n",
        "from google.colab.output import eval_js\n",
        "from base64 import b64decode\n",
        "import PIL\n",
        "import matplotlib.pyplot as plt\n",
        "from PIL import Image, ImageDraw, ImageFont\n",
        "import numpy as np\n",
        "\n",
        "# Function to take the photo\n",
        "def take_photo(filename='photo.jpg', quality=0.8):\n",
        "  js = Javascript('''\n",
        "    async function takePhoto(quality) {\n",
        "      const div = document.createElement('div');\n",
        "      const capture = document.createElement('button');\n",
        "      capture.textContent = 'Capture';\n",
        "      div.appendChild(capture);\n",
        "\n",
        "      const video = document.createElement('video');\n",
        "      video.style.display = 'block';\n",
        "      const stream = await navigator.mediaDevices.getUserMedia({video: true});\n",
        "\n",
        "      document.body.appendChild(div);\n",
        "      div.appendChild(video);\n",
        "      video.srcObject = stream;\n",
        "      await video.play();\n",
        "\n",
        "      // Resize the output to fit the video element.\n",
        "      google.colab.output.setIframeHeight(document.documentElement.scrollHeight, true);\n",
        "\n",
        "      // Wait for Capture to be clicked.\n",
        "      await new Promise((resolve) => capture.onclick = resolve);\n",
        "\n",
        "      const canvas = document.createElement('canvas');\n",
        "      canvas.width = video.videoWidth;\n",
        "      canvas.height = video.videoHeight;\n",
        "      canvas.getContext('2d').drawImage(video, 0, 0);\n",
        "      stream.getVideoTracks()[0].stop();\n",
        "      div.remove();\n",
        "      return canvas.toDataURL('image/jpeg', quality);\n",
        "    }\n",
        "    ''')\n",
        "  display(js)\n",
        "  data = eval_js('takePhoto({})'.format(quality))\n",
        "  binary = b64decode(data.split(',')[1])\n",
        "  with open(filename, 'wb') as f:\n",
        "    f.write(binary)\n",
        "  return filename\n",
        "\n",
        "def faceMask():\n",
        "  # Open the image\n",
        "  img = cv2.imread('photo.jpg')\n",
        "\n",
        "  # Gray image\n",
        "  gray_img = cv2.cvtColor(img,cv2.COLOR_BGR2GRAY)\n",
        "\n",
        "  #Load the pre-trained classifier\n",
        "  face_cascade = cv2.CascadeClassifier(cv2.data.haarcascades + \"haarcascade_frontalface_default.xml\") #Note the change\n",
        "\n",
        "  # Preform the face detection\n",
        "  face = face_cascade.detectMultiScale(gray_img,1.1,4)\n",
        "\n",
        "  # Make the image color\n",
        "  img_rgb = cv2.cvtColor(img, cv2.COLOR_BGR2RGB)\n",
        "\n",
        "  # Mask\n",
        "  mask = np.zeros(img.shape[:2], dtype=\"uint8\")\n",
        "\n",
        "  for x,y,width,height in face:\n",
        "    # Find the center of the face\n",
        "    corner1 = (x,y)\n",
        "    corner2 = (x+width, y)\n",
        "    corner3 = (x, y+height)\n",
        "    corner4 = (x+width, y+height)\n",
        "    centerx = (x + (x+width) + x + (x+width)) / 4\n",
        "    centery = (y + (y+height) + y + (y+height)) / 4\n",
        "\n",
        "    # Draw the ellipse to fit the face\n",
        "    center_coordinates = (int(centerx), int(centery))\n",
        "    axesLength = (100, 150)\n",
        "    cv2.ellipse(mask, center_coordinates, axesLength, 0, 0, 360, (255, 255, 255), -1)\n",
        "\n",
        "  # Cut out the circle from the image\n",
        "  faceMask = cv2.bitwise_and(img_rgb, img_rgb, mask=mask)\n",
        "  plt. axis('off')\n",
        "  plt.imshow(faceMask)\n",
        "  plt.savefig(\"masked.jpg\")\n",
        "\n",
        "  backgroundblur = cv2.blur(img_rgb, (25,25))\n",
        "  plt. axis('off')\n",
        "  plt.imshow(backgroundblur)\n",
        "  plt.savefig(\"background.jpg\")\n",
        "\n",
        "def blurredFaceBackground():\n",
        "  faceOverlayFile = Image.open('masked.jpg')\n",
        "  faceOverlay = faceOverlayFile.convert(\"RGBA\")\n",
        "  fpixdata = faceOverlay.load()\n",
        "  fwidth, fheight = faceOverlay.size\n",
        "\n",
        "  for y in range(fheight):\n",
        "      for x in range(fwidth):\n",
        "          if fpixdata[x,y][0] < 50 and fpixdata[x,y][1] < 50 and fpixdata[x,y][2] < 50:\n",
        "            fpixdata[x, y] = (0,0,0,0)\n",
        "\n",
        "  Background = Image.open('background.jpg')\n",
        "\n",
        "  Background.paste(faceOverlay, (0, 0), mask=faceOverlay)\n",
        "\n",
        "  Background.save(\"output.png\")\n",
        "  fig, ax = plt.subplots(1, 1, figsize=(12, 10))\n",
        "  directory = os.getcwd()\n",
        "  filename_greenscreen = os.path.join(directory, 'output.png')\n",
        "  img = np.array(Image.open(filename_greenscreen))\n",
        "  ax.imshow(img, interpolation='none')\n",
        "  ax.axis('off')\n",
        "  fig.show()\n",
        "\n",
        "def bodyMask():\n",
        "  # Open the image\n",
        "  directory = os.getcwd()\n",
        "  img = cv2.imread(os.path.join(directory, 'download.jpeg'))\n",
        "\n",
        "  # Gray image\n",
        "  gray_img = cv2.cvtColor(img,cv2.COLOR_BGR2GRAY)\n",
        "\n",
        "  #Load the pre-trained classifier\n",
        "  body_cascade = cv2.CascadeClassifier(cv2.data.haarcascades + \"haarcascade_fullbody.xml\")\n",
        "\n",
        "  # Preform the face detection\n",
        "  body = body_cascade.detectMultiScale(gray_img,1.1,4)\n",
        "\n",
        "  # Make the image color\n",
        "  img_rgb = cv2.cvtColor(img, cv2.COLOR_BGR2RGB)\n",
        "\n",
        "  # Mask\n",
        "  mask = np.zeros(img.shape[:2], dtype=\"uint8\")\n",
        "\n",
        "  for x,y,width,height in body:\n",
        "    # Find the center of the body\n",
        "    corner1 = (x,y)\n",
        "    corner2 = (x+width, y)\n",
        "    corner3 = (x, y+height)\n",
        "    corner4 = (x+width, y+height)\n",
        "    centerx = (x + (x+width) + x + (x+width)) / 4\n",
        "    centery = (y + (y+height) + y + (y+height)) / 4\n",
        "\n",
        "    # Draw the ellipse to fit the face\n",
        "    center_coordinates = (int(centerx), int(centery))\n",
        "    axesLength = (50, 125)\n",
        "\n",
        "    cv2.ellipse(mask, center_coordinates, axesLength, 0, 0, 360, (0, 255, 0), -1)\n",
        "\n",
        "  bodyMask = cv2.bitwise_and(img_rgb, img_rgb, mask=mask)\n",
        "\n",
        "  plt. axis('off')\n",
        "  plt.imshow(bodyMask)\n",
        "\n",
        "def userInput():\n",
        "  response = input(\"Would you like to make your face blurred or your body blurred? (f/b): \")\n",
        "\n",
        "  if response == \"f\":\n",
        "    faceMask()\n",
        "    blurredFaceBackground()\n",
        "  elif response == \"b\":\n",
        "    bodyMask()\n",
        "    # blurredBodyBackground()\n",
        "  else:\n",
        "    userInput()\n",
        "\n",
        "# Take the photo\n",
        "try:\n",
        "  filename = take_photo()\n",
        "except Exception as err:\n",
        "  print(str(err))\n",
        "\n",
        "userInput()"
      ]
    }
  ]
}