{
  "nbformat": 4,
  "nbformat_minor": 0,
  "metadata": {
    "colab": {
      "provenance": [],
      "authorship_tag": "ABX9TyPn26RTVPDo9WJU3VywQk5E",
      "include_colab_link": true
    },
    "kernelspec": {
      "name": "python3",
      "display_name": "Python 3"
    },
    "language_info": {
      "name": "python"
    }
  },
  "cells": [
    {
      "cell_type": "markdown",
      "metadata": {
        "id": "view-in-github",
        "colab_type": "text"
      },
      "source": [
        "<a href=\"https://colab.research.google.com/github/cjweems/image-filter-project/blob/feedback/Image_Filter_Project.ipynb\" target=\"_parent\"><img src=\"https://colab.research.google.com/assets/colab-badge.svg\" alt=\"Open In Colab\"/></a>"
      ]
    },
    {
      "cell_type": "code",
      "source": [
        "import cv2\n",
        "import os\n",
        "import matplotlib.pyplot as plt\n",
        "from IPython.display import display, Javascript, Image\n",
        "from google.colab.output import eval_js\n",
        "from base64 import b64decode\n",
        "import numpy as np\n",
        "\n",
        "def take_photo(filename='photo.jpg', quality=0.8):\n",
        "  js = Javascript('''\n",
        "    async function takePhoto(quality) {\n",
        "      const div = document.createElement('div');\n",
        "      const capture = document.createElement('button');\n",
        "      capture.textContent = 'Capture';\n",
        "      div.appendChild(capture);\n",
        "\n",
        "      const video = document.createElement('video');\n",
        "      video.style.display = 'block';\n",
        "      const stream = await navigator.mediaDevices.getUserMedia({video: true});\n",
        "\n",
        "      document.body.appendChild(div);\n",
        "      div.appendChild(video);\n",
        "      video.srcObject = stream;\n",
        "      await video.play();\n",
        "\n",
        "      // Resize the output to fit the video element.\n",
        "      google.colab.output.setIframeHeight(document.documentElement.scrollHeight, true);\n",
        "\n",
        "      // Wait for Capture to be clicked.\n",
        "      await new Promise((resolve) => capture.onclick = resolve);\n",
        "\n",
        "      const canvas = document.createElement('canvas');\n",
        "      canvas.width = video.videoWidth;\n",
        "      canvas.height = video.videoHeight;\n",
        "      canvas.getContext('2d').drawImage(video, 0, 0);\n",
        "      stream.getVideoTracks()[0].stop();\n",
        "      div.remove();\n",
        "      return canvas.toDataURL('image/jpeg', quality);\n",
        "    }\n",
        "    ''')\n",
        "  display(js)\n",
        "  data = eval_js('takePhoto({})'.format(quality))\n",
        "  binary = b64decode(data.split(',')[1])\n",
        "  with open(filename, 'wb') as f:\n",
        "    f.write(binary)\n",
        "  return filename\n",
        "\n",
        "try:\n",
        "  filename = take_photo()\n",
        "  print('Saved to {}'.format(filename))\n",
        "\n",
        "  # Show the image which was just taken.\n",
        "  # display(Image(filename))\n",
        "except Exception as err:\n",
        "  # Errors will be thrown if the user does not have a webcam or if they do not grant the page permission to access it.\n",
        "  print(str(err))\n",
        "\n",
        "# Read the image\n",
        "img = cv2.imread('photo.jpg')\n",
        "\n",
        "# Conver the image to grayscale\n",
        "gray_img = cv2.cvtColor(img,cv2.COLOR_BGR2GRAY)\n",
        "\n",
        "# Load the pre-trained classifier\n",
        "face_cascade = cv2.CascadeClassifier(cv2.data.haarcascades + \"haarcascade_frontalface_default.xml\") #Note the change\n",
        "\n",
        "# Preform the face detection\n",
        "face = face_cascade.detectMultiScale(gray_img,1.1,4)\n",
        "\n",
        "# # Draw a circle around the face\n",
        "# for x,y,width,height in face:\n",
        "#   # Finds the center of the face\n",
        "#   corner1 = (x,y)\n",
        "#   corner2 = (x+width, y)\n",
        "#   corner3 = (x, y+height)\n",
        "#   corner4 = (x+width, y+height)\n",
        "#   centerx = (x + (x+width) + x + (x+width)) / 4\n",
        "#   centery = (y + (y+height) + y + (y+height)) / 4\n",
        "\n",
        "#   # Calculates the radius from the center point\n",
        "#   rad = abs(y - centery)\n",
        "\n",
        "#   # Draws the circle\n",
        "#   cv2.circle(img, (int(centerx),int(centery)), radius = int(rad), color = (0,255,0), thickness =1)\n",
        "\n",
        "# # Displays the image\n",
        "# img_rgb = cv2.cvtColor(img, cv2.COLOR_BGR2RGB)\n",
        "# plt.imshow(img_rgb)\n",
        "# plt.axis('on')\n",
        "\n",
        "#Draw an ellipse that is more accurate to the face shape\n",
        "for x,y,width,height in face:\n",
        "  # Find the center of the face\n",
        "  corner1 = (x,y)\n",
        "  corner2 = (x+width, y)\n",
        "  corner3 = (x, y+height)\n",
        "  corner4 = (x+width, y+height)\n",
        "  centerx = (x + (x+width) + x + (x+width)) / 4\n",
        "  centery = (y + (y+height) + y + (y+height)) / 4\n",
        "\n",
        "  # Draw the ellipse to fit the face\n",
        "  center_coordinates = (int(centerx), int(centery))\n",
        "  axesLength = (125, 175) # How can this be adaptive?\n",
        "  cv2.ellipse(img, center_coordinates, axesLength, 0, 0, 360, (0, 0, 255), 1)\n",
        "\n",
        "# Display the image\n",
        "img_rgb = cv2.cvtColor(img, cv2.COLOR_BGR2RGB)\n",
        "plt.imshow(img_rgb)\n",
        "plt.axis('off')\n",
        "\n",
        "# # Face region\n",
        "# bx, by, w, h = x, y, width, height\n",
        "\n",
        "# # Extract the face region\n",
        "# faceRegion = img_rgb[by:by+h, bx:bx+w]\n",
        "\n",
        "# # Blur everything else\n",
        "# blurredBackground = cv2.blur(img_rgb, (10, 10))\n",
        "\n",
        "# # Put the normal face on the blurred background\n",
        "# blurredBackground[by:by+h, bx:bx+w] = faceRegion\n",
        "\n",
        "# # Display the image\n",
        "# plt.imshow(blurredBackground)\n",
        "\n",
        "# Create a mask with the same size as the image\n",
        "mask = np.zeros_like(img)\n",
        "\n",
        "# Draw the ellipse on the mask\n",
        "cv2.ellipse(img, center_coordinates, axesLength, 0, 0, 360, (255, 255, 255), -1)\n",
        "\n",
        "# Bitwise AND operation to extract the oval-shaped region\n",
        "result = cv2.bitwise_and(img, mask)\n",
        "\n",
        "plt.imshow(result)"
      ],
      "metadata": {
        "id": "BfrgpPySo9g3",
        "outputId": "a356ee34-cf3a-4533-839e-1ddf2ff3e1af",
        "colab": {
          "base_uri": "https://localhost:8080/",
          "height": 443
        }
      },
      "execution_count": 55,
      "outputs": [
        {
          "output_type": "display_data",
          "data": {
            "text/plain": [
              "<IPython.core.display.Javascript object>"
            ],
            "application/javascript": [
              "\n",
              "    async function takePhoto(quality) {\n",
              "      const div = document.createElement('div');\n",
              "      const capture = document.createElement('button');\n",
              "      capture.textContent = 'Capture';\n",
              "      div.appendChild(capture);\n",
              "\n",
              "      const video = document.createElement('video');\n",
              "      video.style.display = 'block';\n",
              "      const stream = await navigator.mediaDevices.getUserMedia({video: true});\n",
              "\n",
              "      document.body.appendChild(div);\n",
              "      div.appendChild(video);\n",
              "      video.srcObject = stream;\n",
              "      await video.play();\n",
              "\n",
              "      // Resize the output to fit the video element.\n",
              "      google.colab.output.setIframeHeight(document.documentElement.scrollHeight, true);\n",
              "\n",
              "      // Wait for Capture to be clicked.\n",
              "      await new Promise((resolve) => capture.onclick = resolve);\n",
              "\n",
              "      const canvas = document.createElement('canvas');\n",
              "      canvas.width = video.videoWidth;\n",
              "      canvas.height = video.videoHeight;\n",
              "      canvas.getContext('2d').drawImage(video, 0, 0);\n",
              "      stream.getVideoTracks()[0].stop();\n",
              "      div.remove();\n",
              "      return canvas.toDataURL('image/jpeg', quality);\n",
              "    }\n",
              "    "
            ]
          },
          "metadata": {}
        },
        {
          "output_type": "stream",
          "name": "stdout",
          "text": [
            "Saved to photo.jpg\n"
          ]
        },
        {
          "output_type": "execute_result",
          "data": {
            "text/plain": [
              "<matplotlib.image.AxesImage at 0x7dd3fcda6590>"
            ]
          },
          "metadata": {},
          "execution_count": 55
        },
        {
          "output_type": "display_data",
          "data": {
            "text/plain": [
              "<Figure size 640x480 with 1 Axes>"
            ],
            "image/png": "[encoded data removed]"
          },
          "metadata": {}
        }
      ]
    }
  ]
}